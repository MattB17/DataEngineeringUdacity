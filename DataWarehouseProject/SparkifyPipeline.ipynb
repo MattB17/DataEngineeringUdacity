{
 "cells": [
  {
   "cell_type": "markdown",
   "metadata": {},
   "source": [
    "# Sparkify Data Pipeline\n",
    "\n",
    "This script runs the Sparkify data pipeline that loads data from S3 into a star schema."
   ]
  },
  {
   "cell_type": "code",
   "execution_count": null,
   "metadata": {},
   "outputs": [],
   "source": [
    "%load_ext sql"
   ]
  },
  {
   "cell_type": "markdown",
   "metadata": {},
   "source": [
    "Sets up the Redshift cluster for the data warehouse"
   ]
  },
  {
   "cell_type": "code",
   "execution_count": null,
   "metadata": {},
   "outputs": [],
   "source": [
    "!python3 cluster_setup.py"
   ]
  },
  {
   "cell_type": "markdown",
   "metadata": {},
   "source": [
    "Executes the drop table and create table statements"
   ]
  },
  {
   "cell_type": "code",
   "execution_count": null,
   "metadata": {},
   "outputs": [],
   "source": [
    "!python3 create_tables.py"
   ]
  },
  {
   "cell_type": "markdown",
   "metadata": {},
   "source": [
    "Executes the ETL pipeline by loading data from S3 into the staging tables and then from the staging tables into the star schema."
   ]
  },
  {
   "cell_type": "code",
   "execution_count": null,
   "metadata": {},
   "outputs": [],
   "source": [
    "!python3 etl.py"
   ]
  },
  {
   "cell_type": "markdown",
   "metadata": {},
   "source": [
    "### Example queries used for validation"
   ]
  },
  {
   "cell_type": "code",
   "execution_count": null,
   "metadata": {},
   "outputs": [],
   "source": [
    "import utils\n",
    "\n",
    "config = utils.get_config('dwh.cfg')\n",
    "conn_string=\"postgresql://{}:{}@{}:{}/{}\".format(config.get('CLUSTER', 'db_user'),\n",
    "                                                 config.get('CLUSTER', 'db_password'),\n",
    "                                                 config.get('CLUSTER', 'endpoint'),\n",
    "                                                 config.get('CLUSTER', 'db_port'),\n",
    "                                                 config.get('CLUSTER', 'db_name'))\n",
    "%sql $conn_string"
   ]
  },
  {
   "cell_type": "markdown",
   "metadata": {},
   "source": [
    "Get the top 5 most played songs: the song id, song name, duration, artist name, and number of times it was played."
   ]
  },
  {
   "cell_type": "code",
   "execution_count": null,
   "metadata": {},
   "outputs": [],
   "source": [
    "%%sql\n",
    "SELECT\n",
    "  sp.song_id,\n",
    "  s.title AS song_name,\n",
    "  s.duration,\n",
    "  a.name AS artist_name,\n",
    "  COUNT(sp.*) AS num_plays\n",
    "FROM\n",
    "  songplay AS sp\n",
    "INNER JOIN\n",
    "  song AS s\n",
    "ON\n",
    "  sp.song_id = s.song_id\n",
    "INNER JOIN\n",
    "  artist AS a\n",
    "ON\n",
    "  sp.artist_id = a.artist_id\n",
    "GROUP BY\n",
    "  1, 2, 3, 4\n",
    "ORDER BY\n",
    "  5 DESC\n",
    "LIMIT\n",
    "  5\n",
    ";"
   ]
  },
  {
   "cell_type": "markdown",
   "metadata": {},
   "source": [
    "Get the top 5 users (by number of songs played): the user_id, their first_name, last_name, number of total song plays, and the number of different songs they have played"
   ]
  },
  {
   "cell_type": "code",
   "execution_count": null,
   "metadata": {},
   "outputs": [],
   "source": [
    "%%sql\n",
    "SELECT\n",
    "  sp.user_id,\n",
    "  u.first_name,\n",
    "  u.last_name,\n",
    "  COUNT(sp.*) AS num_plays,\n",
    "  COUNT(DISTINCT sp.song_id) AS num_songs\n",
    "FROM\n",
    "  songplay AS sp\n",
    "INNER JOIN\n",
    "  users AS u\n",
    "ON\n",
    "  sp.user_id = u.user_id\n",
    "GROUP BY\n",
    "  1, 2, 3\n",
    "ORDER BY\n",
    "  4 DESC\n",
    "LIMIT\n",
    "  5\n",
    ";"
   ]
  },
  {
   "cell_type": "markdown",
   "metadata": {},
   "source": [
    "Get the top 5 songs played in 2017: the song_id, song name, artist name, and number of times it was played"
   ]
  },
  {
   "cell_type": "code",
   "execution_count": null,
   "metadata": {},
   "outputs": [],
   "source": [
    "%%sql\n",
    "SELECT\n",
    "  sp.song_id,\n",
    "  s.title AS song_name,\n",
    "  a.name AS artist_name,\n",
    "  COUNT(sp.songplay_id) AS num_plays\n",
    "FROM\n",
    "  songplay AS sp\n",
    "INNER JOIN\n",
    "  song AS s\n",
    "ON\n",
    "  sp.song_id = s.song_id\n",
    "INNER JOIN\n",
    "  artist AS a\n",
    "ON\n",
    "  sp.artist_id = a.artist_id\n",
    "INNER JOIN\n",
    "  time AS t\n",
    "ON\n",
    "  sp.start_time = t.start_time\n",
    "WHERE\n",
    "  t.year = 2018\n",
    "GROUP BY\n",
    "  1, 2, 3\n",
    "ORDER BY\n",
    "  4 DESC\n",
    "LIMIT\n",
    "  5\n",
    ";"
   ]
  },
  {
   "cell_type": "markdown",
   "metadata": {},
   "source": [
    "### Cleanup\n",
    "\n",
    "Run the below command to remove the cluster and IAM role"
   ]
  },
  {
   "cell_type": "code",
   "execution_count": null,
   "metadata": {},
   "outputs": [],
   "source": [
    "!python3 cluster_teardown.py"
   ]
  }
 ],
 "metadata": {
  "kernelspec": {
   "display_name": "Python 3",
   "language": "python",
   "name": "python3"
  },
  "language_info": {
   "codemirror_mode": {
    "name": "ipython",
    "version": 3
   },
   "file_extension": ".py",
   "mimetype": "text/x-python",
   "name": "python",
   "nbconvert_exporter": "python",
   "pygments_lexer": "ipython3",
   "version": "3.6.3"
  }
 },
 "nbformat": 4,
 "nbformat_minor": 2
}
